{
 "cells": [
  {
   "cell_type": "code",
   "execution_count": 2,
   "metadata": {},
   "outputs": [],
   "source": [
    "from langchain_community.llms import CTransformers"
   ]
  },
  {
   "cell_type": "code",
   "execution_count": 2,
   "metadata": {},
   "outputs": [],
   "source": [
    "def generate_text(llama_model, prompt): \n",
    "    llm = CTransformers(\n",
    "            model = llama_model,\n",
    "            model_type=\"llama\",\n",
    "            max_new_tokens = 512,\n",
    "            temperature = 0.5\n",
    "        )\n",
    "\n",
    "    print(llm.invoke(prompt))"
   ]
  },
  {
   "cell_type": "code",
   "execution_count": null,
   "metadata": {},
   "outputs": [
    {
     "name": "stderr",
     "output_type": "stream",
     "text": [
      "Fetching 1 files: 100%|██████████| 1/1 [00:00<?, ?it/s]\n",
      "Fetching 1 files: 100%|██████████| 1/1 [00:00<?, ?it/s]\n"
     ]
    },
    {
     "name": "stdout",
     "output_type": "stream",
     "text": [
      " be very important in the future.\n",
      "It will help us develop and use machines and algorithms to learn from data, make predictions or decisions, perform complex tasks automatedly, and much more than human ability.\n",
      "In this article, we will discuss what AI is, its applications, benefits, and limitations.\n",
      "AI stands for Artificial Intelligence. It is a branch of computer science that focuses on creating machines capable of performing tasks that would normally require human intelligence. It is also called machine learning or intelligent automation.\n",
      "Applications of AI:\n",
      "1. Chatbots: Many companies are using chatbots to automate customer service, answering frequently asked questions, and providing quick solutions. These chatbots can understand natural language processing (NLP) and respond accordingly.\n",
      "2. Predictive Maintenance: AI is also being used in predictive maintenance. A machine can detect anomalies in equipment performance and alert the operator to repair before a breakdown occurs.\n",
      "3. Fraud Detection: AI can detect fraud, credit card transactions, and other financial crimes by analyzing historical data to identify patterns and abnormalities.\n",
      "4. Healthcare: AI is used\n"
     ]
    }
   ],
   "source": [
    "llama_model = \"TheBloke/Llama-2-7B-Chat-GGML\"\n",
    "prompt = 'AI is going to'\n",
    "generate_text(llama_model, prompt)"
   ]
  },
  {
   "cell_type": "code",
   "execution_count": null,
   "metadata": {},
   "outputs": [],
   "source": [
    "llama_model = \"TheBloke/LLaMa-30B-GGML\"\n",
    "prompt = 'AI is going to'\n",
    "generate_text(llama_model, prompt)"
   ]
  }
 ],
 "metadata": {
  "kernelspec": {
   "display_name": ".venv",
   "language": "python",
   "name": "python3"
  },
  "language_info": {
   "codemirror_mode": {
    "name": "ipython",
    "version": 3
   },
   "file_extension": ".py",
   "mimetype": "text/x-python",
   "name": "python",
   "nbconvert_exporter": "python",
   "pygments_lexer": "ipython3",
   "version": "3.12.3"
  }
 },
 "nbformat": 4,
 "nbformat_minor": 2
}
